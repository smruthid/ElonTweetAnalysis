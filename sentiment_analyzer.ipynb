{
 "cells": [
  {
   "cell_type": "markdown",
   "id": "f10df122-d035-4d95-b8b4-d4125eba7c28",
   "metadata": {},
   "source": [
    "# Sentiment Analyzer Notebook\n",
    "\n",
    "This script imports a collection of Tweets by Elon Musk into a Pandas dataframe. It then processes the text of those Tweets through the Meaningcloud Sentiment Analyzer API. The response data from the API is then saved back into the dataframe and exported as a CSV.\n",
    "\n",
    "Respones from Meaningcloud for Sentiment:\n",
    "\n",
    "P+   = Strong Positive\n",
    "P    = Positive\n",
    "NEU  = Neutral\n",
    "N    = Negative\n",
    "N+.  = Strong Negative\n",
    "NONE = No Polarity\n",
    "\n",
    "Respone from Meaningcloud API for Confidence:\n",
    "\n",
    "A number from 0-100, with 100 being the most confidence in the Sentiment score returned.\n"
   ]
  },
  {
   "cell_type": "code",
   "execution_count": null,
   "id": "455f0912-3511-4208-b6e3-8d648f62aa4c",
   "metadata": {},
   "outputs": [],
   "source": [
    "# Import required libraries\n",
    "import re\n",
    "import requests\n",
    "import pandas as pd\n",
    "from textblob import TextBlob\n",
    "import os\n",
    "from dotenv import load_dotenv\n",
    "import time\n",
    "from pathlib import Path\n",
    "\n",
    "load_dotenv()"
   ]
  },
  {
   "cell_type": "code",
   "execution_count": null,
   "id": "898254a7-8b86-4a58-ae96-f7e6f2301abc",
   "metadata": {},
   "outputs": [],
   "source": [
    "# Import Tweets from Kaggle CSV into a dataframe\n",
    "sentiment_df = pd.read_csv('KaggleData/TweetsElonMusk.csv')\n",
    "\n",
    "# Preview the dataframe\n",
    "sentiment_df.head()"
   ]
  },
  {
   "cell_type": "code",
   "execution_count": null,
   "id": "8e37d2d7-1d07-4b2a-ac91-a35f1a67e371",
   "metadata": {},
   "outputs": [],
   "source": [
    "# Create a column 'datetime' by concatenating the 'date' and 'time' columns\n",
    "sentiment_df['datetime'] = pd.to_datetime(sentiment_df['date'] + ' ' + sentiment_df['time'])\n",
    "\n",
    "# Set the 'datetime' column as the index\n",
    "sentiment_df = sentiment_df.set_index('datetime')\n",
    "\n",
    "# Localize the times to UTC\n",
    "sentiment_df = sentiment_df.tz_localize('utc')\n",
    "\n",
    "# Display the first record of the datetime and inspect the index\n",
    "display(sentiment_df.index[0])\n"
   ]
  },
  {
   "cell_type": "code",
   "execution_count": null,
   "id": "5d28a6eb-11c3-45ed-9a66-6c5d6ed42f07",
   "metadata": {},
   "outputs": [],
   "source": [
    "# Set the URL for the meaningcloud API\n",
    "url = \"https://api.meaningcloud.com/sentiment-2.1\"\n",
    "\n",
    "# Set the default payload for the API\n",
    "payload={\n",
    "    'key': os.getenv(\"MEANINGCLOUD_API_KEY\"),\n",
    "    'txt': '',\n",
    "    'lang': 'en'\n",
    "}"
   ]
  },
  {
   "cell_type": "code",
   "execution_count": null,
   "id": "f63d3c56-12e3-498e-b520-a7d12a138c96",
   "metadata": {
    "tags": []
   },
   "outputs": [],
   "source": [
    "# Set a counter to control the number of rows to process\n",
    "runcount = 0\n",
    "\n",
    "# Cycle through the rows of the dataframe and call API\n",
    "for index, row in sentiment_df.iterrows():\n",
    "    \n",
    "    if runcount < 5000:\n",
    "        \n",
    "        # Increment the counter\n",
    "        runcount = runcount + 1\n",
    "        \n",
    "        # Sleep for 1 second to avoid outrunning the meaningcloud rate limit\n",
    "        time.sleep(1)\n",
    "        \n",
    "        # Print out the runcount and the Tweet text to be processed\n",
    "        print(runcount)\n",
    "        print(row['tweet'])\n",
    "\n",
    "        # Clean the garbage characters out of the tweet text and set value in payload text\n",
    "        payload['txt'] = ' '.join(re.sub(\"(@[A-Za-z0-9]+)|([^0-9A-Za-z \\t])|(\\w+:\\/\\/\\S+)\", \" \", row['tweet']).split())\n",
    "\n",
    "        # Check to make sure the remaining text is not null\n",
    "        if payload['txt'] is not None:\n",
    "            # Print out the cleaned up tweet text\n",
    "            print(payload['txt'])\n",
    "            \n",
    "            # Call the Meaningcloud API, passing the cleaned tweet text, getting response\n",
    "            response = requests.post(url, data=payload).json()\n",
    "            \n",
    "            # Check to make sure the API returned a key called score_tag in the JSON response\n",
    "            if \"score_tag\" in response:\n",
    "                \n",
    "                # Print out the score_tag and the confidence rating\n",
    "                print(response['score_tag'])\n",
    "                print(response['confidence'])\n",
    "                \n",
    "                # Update the dataframe with the new columns for score_tag and confidence\n",
    "                sentiment_df.at[index,'score_tag'] = response['score_tag']\n",
    "                sentiment_df.at[index,'confidence'] = response['confidence']         \n",
    "    \n",
    "\n"
   ]
  },
  {
   "cell_type": "code",
   "execution_count": null,
   "id": "dd1b44d8-3d4d-4689-96ec-cb0f1f2116a0",
   "metadata": {
    "tags": []
   },
   "outputs": [],
   "source": [
    "# Save the resulting dataframe to a CSV\n",
    "# filepath = Path('sentiment_df.csv')\n",
    "# sentiment_df.to_csv(filepath)\n",
    "\n",
    "sentiment_df.to_csv('sentiment_df.csv')\n"
   ]
  },
  {
   "cell_type": "markdown",
   "id": "612a6645-79a6-401f-ac32-0733b288adbd",
   "metadata": {},
   "source": [
    "## Processing of Yesterday (one day) Sentiment of Elon Tweets"
   ]
  },
  {
   "cell_type": "code",
   "execution_count": 2,
   "id": "90638d89-62a7-400f-97b9-7d98227459f0",
   "metadata": {},
   "outputs": [],
   "source": [
    "## This cell has code to run yesterday's Elon tweet contents through the meaningcloud sentiment analyzer\n",
    "\n",
    "# Import required libraries\n",
    "import re\n",
    "import requests\n",
    "import pandas as pd\n",
    "from textblob import TextBlob\n",
    "import os\n",
    "from dotenv import load_dotenv\n",
    "import time\n",
    "\n",
    "# Load env variables in from .env\n",
    "load_dotenv()\n",
    "\n",
    "# Set base URL for meaningcloud API\n",
    "url = \"https://api.meaningcloud.com/sentiment-2.1\"\n",
    "\n",
    "# Create payload to send to meaningcloud API\n",
    "payload={\n",
    "    'key': os.getenv(\"MEANINGCLOUD_API_KEY\"),\n",
    "    'txt': '',\n",
    "    'lang': 'en'\n",
    "}\n",
    "\n",
    "# Read the CSV of yesterday's tweets and gather the sentiments from meaningcloud\n",
    "yesterdays_elon_tweets_df = pd.read_csv('yesterday.csv')\n",
    "\n",
    "# Iterate through yesterdays_tweets dataframe and get sentiment from meaningcloud API\n",
    "for index, row in yesterdays_elon_tweets_df.iterrows():\n",
    "    time.sleep(1)\n",
    "    # Set the payload text to the raw tweet text\n",
    "    payload['txt'] = row['Tweet']\n",
    "    \n",
    "    # Call meaningcloud API and store response as JSON\n",
    "    response = requests.post(url, data=payload).json()\n",
    "    \n",
    "    # # Update the dataframe with the new columns for score_tag and confidence\n",
    "    yesterdays_elon_tweets_df.at[index,'score_tag'] = response['score_tag']\n",
    "    yesterdays_elon_tweets_df.at[index,'confidence'] = response['confidence']\n",
    "\n",
    "# Create a column 'datetime' by concatenating the 'date' and 'time' columns\n",
    "yesterdays_elon_tweets_df['datetime'] = pd.to_datetime(yesterdays_elon_tweets_df['date'] + ' ' + yesterdays_elon_tweets_df['time'])\n",
    "\n",
    "# Set the 'datetime' column as the index\n",
    "yesterdays_elon_tweets_df = yesterdays_elon_tweets_df.set_index('datetime')\n",
    "\n",
    "# Localize the times to UTC\n",
    "yesterdays_elon_tweets_df = yesterdays_elon_tweets_df.tz_localize('utc')\n",
    "\n",
    "# Output the resulting dataframe to CSV\n",
    "yesterdays_elon_tweets_df.to_csv('yesterdays_elon_tweets_df.csv')\n",
    "\n",
    "\n"
   ]
  },
  {
   "cell_type": "code",
   "execution_count": null,
   "id": "14ac6260-908a-48b9-a0b4-cb814bc9b2f6",
   "metadata": {},
   "outputs": [],
   "source": []
  }
 ],
 "metadata": {
  "kernelspec": {
   "display_name": "Python 3 (ipykernel)",
   "language": "python",
   "name": "python3"
  },
  "language_info": {
   "codemirror_mode": {
    "name": "ipython",
    "version": 3
   },
   "file_extension": ".py",
   "mimetype": "text/x-python",
   "name": "python",
   "nbconvert_exporter": "python",
   "pygments_lexer": "ipython3",
   "version": "3.9.12"
  }
 },
 "nbformat": 4,
 "nbformat_minor": 5
}
